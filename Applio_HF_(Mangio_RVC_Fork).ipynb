{
  "cells": [
    {
      "cell_type": "markdown",
      "metadata": {
        "id": "view-in-github",
        "colab_type": "text"
      },
      "source": [
        "<a href=\"https://colab.research.google.com/github/laynz28/RCV-AI-COVER-ALL/blob/main/Applio_HF_(Mangio_RVC_Fork).ipynb\" target=\"_parent\"><img src=\"https://colab.research.google.com/assets/colab-badge.svg\" alt=\"Open In Colab\"/></a>"
      ]
    },
    {
      "cell_type": "code",
      "execution_count": null,
      "metadata": {
        "cellView": "form",
        "id": "izLwNF_8T1TK"
      },
      "outputs": [],
      "source": [
        "#@title <font color='#06ae56'>**🍏 HF (Mangio-RVC-Fork)**</font>\n",
        "!git clone https://github.com/HoshioPilio/r3gm_RVC_HF.git /content/Retrieval-based-Voice-Conversion\n",
        "%cd /content/Retrieval-based-Voice-Conversion\n",
        "!wget https://huggingface.co/lj1995/VoiceConversionWebUI/blob/main/rmvpe.pt\n",
        "!pip install -q -r requirements.txt\n",
        "!python3 app.py --colab --pycmd python3"
      ]
    },
    {
      "cell_type": "markdown",
      "source": [
        "\n",
        " github and huggingface account\n",
        "\n",
        "r3gm\n",
        "\n",
        "Github : https://github.com/r3gm\n",
        "\n",
        "Huggingface : https://huggingface.co/r3gm\n",
        "\n",
        "\n",
        "Laynz28\n",
        "\n",
        "github : https://github.com/laynz28\n",
        "\n",
        "huggingface :https://huggingface.co/LaynzID12\n",
        "\n",
        "<img align=\"right\" alt=\".\" width=\"\" src=\"https://i.pinimg.com/originals/f3/00/83/f30083fcbf8a673fbe9f2b1a5ab8de84.jpg\">\n",
        "\n",
        "\n",
        "[]()"
      ],
      "metadata": {
        "id": "S7fE85MGwfYU"
      }
    }
  ],
  "metadata": {
    "accelerator": "GPU",
    "colab": {
      "provenance": [],
      "include_colab_link": true
    },
    "kernelspec": {
      "display_name": "Python 3",
      "name": "python3"
    },
    "language_info": {
      "name": "python"
    }
  },
  "nbformat": 4,
  "nbformat_minor": 0
}