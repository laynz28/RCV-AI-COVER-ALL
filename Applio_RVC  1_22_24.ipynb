{
  "cells": [
    {
      "cell_type": "markdown",
      "metadata": {
        "id": "view-in-github",
        "colab_type": "text"
      },
      "source": [
        "<a href=\"https://colab.research.google.com/github/laynz28/RCV-AI-COVER-ALL/blob/main/Applio_RVC%20%201_22_24.ipynb\" target=\"_parent\"><img src=\"https://colab.research.google.com/assets/colab-badge.svg\" alt=\"Open In Colab\"/></a>"
      ]
    },
    {
      "cell_type": "markdown",
      "metadata": {
        "id": "vO6X0R7F-Whl"
      },
      "source": [
        "# [Applio-RVC-fork Free notebook](https://github.com/HoshioPilio/Applio)"
      ]
    },
    {
      "cell_type": "markdown",
      "metadata": {
        "id": "ZFFCx5J80SGa"
      },
      "source": [
        "originalRVC notebook [![Open In Colab](https://colab.research.google.com/assets/colab-badge.svg)](https://colab.research.google.com/github/RVC-Project/Retrieval-based-Voice-Conversion-WebUI/blob/main/Retrieval_based_Voice_Conversion_WebUI.ipynb)"
      ]
    },
    {
      "cell_type": "code",
      "execution_count": null,
      "metadata": {
        "id": "ge_97mfpgqTm",
        "cellView": "form"
      },
      "outputs": [],
      "source": [
        "\n",
        "# @title **clone Applio**\n",
        "\n",
        "import codecs\n",
        "import time\n",
        "\n",
        "orig_name_of_program = codecs.decode(\"uggcf://tvguho.pbz/UbfuvbCvyvb/Nccyvb\", \"rot_13\")\n",
        "name = codecs.decode(\"Nccyvb\", \"rot_13\")\n",
        "\n",
        "\n",
        "from IPython.display import clear_output, Javascript\n",
        "\n",
        "!git clone --depth 1 $orig_name_of_program\n",
        "%cd /content/Applio\n",
        "\n",
        "\n",
        "file_path = \"requirements.txt\"\n",
        "!pip install -r \"requirements.txt\" --quiet\n",
        "clear_output()"
      ]
    },
    {
      "cell_type": "code",
      "source": [
        "#@title **install requirements.txt**\n",
        "%cd /content/Applio\n",
        "\n",
        "file_path = \"/content/Applio/requirements.txt\"\n",
        "!pip install -r \"requirements.txt\" --quiet\n",
        "clear_output()"
      ],
      "metadata": {
        "cellView": "form",
        "id": "kthA839o8_po"
      },
      "execution_count": null,
      "outputs": []
    },
    {
      "cell_type": "code",
      "source": [
        "#@title **download Acapella youtube music**\n",
        "from IPython.display import clear_output\n",
        "!pip install yt_dlp\n",
        "!pip install ffmpeg\n",
        "clear_output()\n",
        "url = \"https://youtu.be/uDM9OAot60g?si=27PMIHfwSjmfCmxd\" #@param {type:\"string\"}\n",
        "audio_name = \"idol\" #@param {type:\"string\"}\n",
        "dataset = \"Youtube\"\n",
        "\n",
        "from __future__ import unicode_literals\n",
        "\n",
        "if dataset == \"Drive\":\n",
        "  print(\"Dataset is set to Drive. Skipping this section\")\n",
        "elif dataset == \"Youtube\":\n",
        "  import yt_dlp\n",
        "  import ffmpeg\n",
        "  import sys\n",
        "\n",
        "\n",
        "  ydl_opts = {\n",
        "      'format': 'bestaudio/best',\n",
        "  #    'outtmpl': 'output.%(ext)s',\n",
        "      'postprocessors': [{\n",
        "          'key': 'FFmpegExtractAudio',\n",
        "          'preferredcodec': 'wav',\n",
        "      }],\n",
        "      \"outtmpl\": f'/content/Applio/assets/audios/{audio_name}',  # this is where you can edit how you'd like the filenames to be formatted\n",
        "  }\n",
        "  def download_from_url(url):\n",
        "      ydl.download([url])\n",
        "      # stream = ffmpeg.input('output.m4a')\n",
        "      # stream = ffmpeg.output(stream, 'output.wav')\n",
        "\n",
        "\n",
        "  with yt_dlp.YoutubeDL(ydl_opts) as ydl:\n",
        "\n",
        "        download_from_url(url)\n",
        "\n",
        "  import ipywidgets as widgets\n",
        "  from IPython.display import clear_output\n",
        "  import os, shutil"
      ],
      "metadata": {
        "cellView": "form",
        "id": "cjrNowFG1SlE"
      },
      "execution_count": null,
      "outputs": []
    },
    {
      "cell_type": "code",
      "execution_count": null,
      "metadata": {
        "id": "7vh6vphDwO0b",
        "cellView": "form"
      },
      "outputs": [],
      "source": [
        "\n",
        "# @title **run Applio**\n",
        "import codecs\n",
        "\n",
        "uyadwa = codecs.decode(\"ncc.cl\", \"rot_13\")\n",
        "\n",
        "%load_ext tensorboard\n",
        "%reload_ext tensorboard\n",
        "%tensorboard --logdir logs --bind_all\n",
        "\n",
        "!python $uyadwa --share"
      ]
    },
    {
      "cell_type": "markdown",
      "source": [
        "APPLIO FOR FREE COLAB NOTEBOOK BY [LAYNZ28](https://github.com/laynz28) INSPIRED BY [HINA](https://discordlookup.com/user/444684887363026974)\n",
        "\n",
        "\n",
        "\n",
        "**A HUGE THANK YOU TO THE APLIO TEAM**"
      ],
      "metadata": {
        "id": "IxBFe8is_UVO"
      }
    }
  ],
  "metadata": {
    "accelerator": "GPU",
    "colab": {
      "private_outputs": true,
      "provenance": [],
      "include_colab_link": true
    },
    "gpuClass": "standard",
    "kernelspec": {
      "display_name": "Python 3",
      "name": "python3"
    },
    "language_info": {
      "name": "python"
    }
  },
  "nbformat": 4,
  "nbformat_minor": 0
}