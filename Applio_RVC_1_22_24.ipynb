{
  "cells": [
    {
      "cell_type": "markdown",
      "metadata": {
        "id": "view-in-github",
        "colab_type": "text"
      },
      "source": [
        "<a href=\"https://colab.research.google.com/github/laynz28/RCV-AI-COVER-ALL/blob/main/Applio_RVC_1_22_24.ipynb\" target=\"_parent\"><img src=\"https://colab.research.google.com/assets/colab-badge.svg\" alt=\"Open In Colab\"/></a>"
      ]
    },
    {
      "cell_type": "code",
      "execution_count": null,
      "metadata": {
        "cellView": "form",
        "id": "p4rnz_slBIog"
      },
      "outputs": [],
      "source": [
        "#@title **Install Applio**\n",
        "\n",
        "import codecs\n",
        "import time\n",
        "from IPython.display import clear_output, Javascript\n",
        "\n",
        "orig_name_of_program = codecs.decode(\"Nccyvb\", \"rot_13\")\n",
        "new_name_of_program = codecs.decode(\"cebtenz\", \"rot_13\")\n",
        "uioawhd = codecs.decode(\"uggcf://tvguho.pbz/ynlam28/Nccyvb\", \"rot_13\")\n",
        "uyadwa = codecs.decode(\"ncc.cl\", \"rot_13\")\n",
        "\n",
        "\n",
        "!git clone --depth 1 $uioawhd\n",
        "!mv $orig_name_of_program $new_name_of_program\n",
        "%cd $new_name_of_program/\n",
        "!pip install yt_dlp --quiet\n",
        "clear_output()\n",
        "file_path = \"requirements.txt\"\n",
        "!pip install -r \"requirements.txt\"\n",
        "clear_output()\n",
        "print(\"Finished installing requirements!\")"
      ]
    },
    {
      "cell_type": "code",
      "execution_count": null,
      "metadata": {
        "cellView": "form",
        "id": "XTSP3HBOjZaH"
      },
      "outputs": [],
      "source": [
        "#@title **download Youtube acapella wav**\n",
        "from IPython.display import clear_output\n",
        "%cd /content/program/assets/audios\n",
        "youtube_url = \"https://youtu.be/2AvJyFLRqXA?si=JFSRseaxRiQckwun\" #@param {type:\"string\"}\n",
        "import os\n",
        "\n",
        "def download_youtube_video(url):\n",
        "\n",
        "        !yt-dlp --extract-audio --audio-format wav $url\n",
        "\n",
        "        os.chdir('/content/program/assets/audios')\n",
        "\n",
        "download_youtube_video(youtube_url)\n",
        "\n",
        "print(\"yt_dlp code by laynz28\")"
      ]
    },
    {
      "cell_type": "code",
      "execution_count": null,
      "metadata": {
        "cellView": "form",
        "id": "Cbqiw5kRUpvo"
      },
      "outputs": [],
      "source": [
        "\n",
        "#@title run applio\n",
        "%cd /content/program\n",
        "import codecs\n",
        "\n",
        "uyadwa = codecs.decode(\"ncc.cl\", \"rot_13\")\n",
        "\n",
        "\n",
        "!python $uyadwa --share"
      ]
    },
    {
      "cell_type": "markdown",
      "metadata": {
        "id": "-dCUVa4PG-hZ"
      },
      "source": [
        "# **Credits**\n",
        " **- Special thanks to [Blaise](https://github.com/blaise-tk) and [Applio Team](https://github.com/IAHispano) 💗**"
      ]
    }
  ],
  "metadata": {
    "accelerator": "GPU",
    "colab": {
      "provenance": [],
      "include_colab_link": true
    },
    "kernelspec": {
      "display_name": "Python 3",
      "name": "python3"
    },
    "language_info": {
      "name": "python"
    }
  },
  "nbformat": 4,
  "nbformat_minor": 0
}