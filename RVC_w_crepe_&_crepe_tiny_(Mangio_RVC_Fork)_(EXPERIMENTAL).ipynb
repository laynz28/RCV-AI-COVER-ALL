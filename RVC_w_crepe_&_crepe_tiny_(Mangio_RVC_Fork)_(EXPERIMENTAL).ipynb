{
  "nbformat": 4,
  "nbformat_minor": 0,
  "metadata": {
    "colab": {
      "private_outputs": true,
      "provenance": [],
      "collapsed_sections": [
        "F6zbsuNs6xZF"
      ],
      "include_colab_link": true
    },
    "kernelspec": {
      "name": "python3",
      "display_name": "Python 3"
    },
    "language_info": {
      "name": "python"
    },
    "gpuClass": "standard",
    "accelerator": "GPU"
  },
  "cells": [
    {
      "cell_type": "markdown",
      "metadata": {
        "id": "view-in-github",
        "colab_type": "text"
      },
      "source": [
        "<a href=\"https://colab.research.google.com/github/laynz28/RCV-AI-COVER-ALL/blob/main/RVC_w_crepe_%26_crepe_tiny_(Mangio_RVC_Fork)_(EXPERIMENTAL).ipynb\" target=\"_parent\"><img src=\"https://colab.research.google.com/assets/colab-badge.svg\" alt=\"Open In Colab\"/></a>"
      ]
    },
    {
      "cell_type": "markdown",
      "source": [
        "# BETTER COLAB WITH AUTO BACKUPS & IMPROVED DOWNLOADER\n",
        "https://colab.research.google.com/drive/1TU-kkQWVf-PLO_hSa2QCMZS1XF5xVHqs?usp=sharing"
      ],
      "metadata": {
        "id": "PXjd7UHeqOLb"
      }
    },
    {
      "cell_type": "markdown",
      "source": [
        "#Step 1. Install everything and connect your Drive (RUN THIS ONE FIRST)"
      ],
      "metadata": {
        "id": "F6zbsuNs6xZF"
      }
    },
    {
      "cell_type": "markdown",
      "source": [
        "[![Open In Colab](https://colab.research.google.com/assets/colab-badge.svg)](https://colab.research.google.com/github/liujing04/Retrieval-based-Voice-Conversion-WebUI/blob/main/Retrieval_based_Voice_Conversion_WebUI.ipynb)\n",
        "If you want to open the ORIGINAL Colab go here!"
      ],
      "metadata": {
        "id": "ZFFCx5J80SGa"
      }
    },
    {
      "cell_type": "code",
      "execution_count": null,
      "metadata": {
        "id": "GmFP6bN9dvOq",
        "cellView": "form"
      },
      "outputs": [],
      "source": [
        "#@title GPU Check\n",
        "!nvidia-smi"
      ]
    },
    {
      "cell_type": "code",
      "source": [
        "#@title Install Dependencies\n",
        "!apt-get -y install build-essential python3-dev ffmpeg\n",
        "!pip3 install --upgrade setuptools wheel\n",
        "!pip3 install --upgrade pip\n",
        "!pip3 install faiss-gpu fairseq gradio ffmpeg ffmpeg-python praat-parselmouth pyworld numpy==1.23.5 numba==0.56.4 librosa==0.9.2\n",
        "!apt -y install -qq aria2\n",
        "!pip install mega.py --quiet\n",
        "!pip install gdown --quiet\n",
        "import ipywidgets as widgets\n",
        "from IPython.display import clear_output\n",
        "import os, shutil\n",
        "success=widgets.Button(description=\"\\u2714 Done\",disabled=True, button_style=\"success\")"
      ],
      "metadata": {
        "id": "wjddIFr1oS3W",
        "cellView": "form"
      },
      "execution_count": null,
      "outputs": []
    },
    {
      "cell_type": "code",
      "source": [
        "#@title Clone Github Repository (FORK + FIXES) (April 14th temp fix)\n",
        "\n",
        "import os\n",
        "\n",
        "# Change the current directory to /content/\n",
        "os.chdir('/content/')\n",
        "\n",
        "# Clone the latest code from the Mangio621/Mangio-RVC-Fork repository\n",
        "!git clone https://github.com/laynz28/Training-Mangio-RVC-Fork.git Retrieval-based-Voice-Conversion-WebUI\n",
        "\n",
        "# Download the torchcrepe folder from the maxrmorrison/torchcrepe repository\n",
        "!git clone https://github.com/maxrmorrison/torchcrepe.git\n",
        "!mv torchcrepe/torchcrepe Retrieval-based-Voice-Conversion-WebUI/\n",
        "!rm -rf torchcrepe  # Delete the torchcrepe repository folder\n",
        "\n",
        "# Change the current directory to /content/Retrieval-based-Voice-Conversion-WebUI\n",
        "os.chdir('/content/Retrieval-based-Voice-Conversion-WebUI')\n",
        "\n",
        "# Revert to the last working commit as of May 14th\n",
        "!git checkout 74e1d4627bb9e2093767dbc21ea84fe8a2a3ddaf\n",
        "\n",
        "# Create the directories for pretrained and uvr5_weights\n",
        "!mkdir -p pretrained uvr5_weights"
      ],
      "metadata": {
        "id": "ge_97mfpgqTm"
      },
      "execution_count": null,
      "outputs": []
    },
    {
      "cell_type": "code",
      "source": [
        "#@title Download the Base Model\n",
        "!aria2c --console-log-level=error -c -x 16 -s 16 -k 1M https://huggingface.co/lj1995/VoiceConversionWebUI/resolve/main/pretrained/D32k.pth -d /content/Retrieval-based-Voice-Conversion-WebUI/pretrained -o D32k.pth\n",
        "!aria2c --console-log-level=error -c -x 16 -s 16 -k 1M https://huggingface.co/lj1995/VoiceConversionWebUI/resolve/main/pretrained/D40k.pth -d /content/Retrieval-based-Voice-Conversion-WebUI/pretrained -o D40k.pth\n",
        "!aria2c --console-log-level=error -c -x 16 -s 16 -k 1M https://huggingface.co/lj1995/VoiceConversionWebUI/resolve/main/pretrained/D48k.pth -d /content/Retrieval-based-Voice-Conversion-WebUI/pretrained -o D48k.pth\n",
        "!aria2c --console-log-level=error -c -x 16 -s 16 -k 1M https://huggingface.co/lj1995/VoiceConversionWebUI/resolve/main/pretrained/G32k.pth -d /content/Retrieval-based-Voice-Conversion-WebUI/pretrained -o G32k.pth\n",
        "!aria2c --console-log-level=error -c -x 16 -s 16 -k 1M https://huggingface.co/lj1995/VoiceConversionWebUI/resolve/main/pretrained/G40k.pth -d /content/Retrieval-based-Voice-Conversion-WebUI/pretrained -o G40k.pth\n",
        "!aria2c --console-log-level=error -c -x 16 -s 16 -k 1M https://huggingface.co/lj1995/VoiceConversionWebUI/resolve/main/pretrained/G48k.pth -d /content/Retrieval-based-Voice-Conversion-WebUI/pretrained -o G48k.pth\n",
        "!aria2c --console-log-level=error -c -x 16 -s 16 -k 1M https://huggingface.co/lj1995/VoiceConversionWebUI/resolve/main/pretrained/f0D32k.pth -d /content/Retrieval-based-Voice-Conversion-WebUI/pretrained -o f0D32k.pth\n",
        "!aria2c --console-log-level=error -c -x 16 -s 16 -k 1M https://huggingface.co/lj1995/VoiceConversionWebUI/resolve/main/pretrained/f0D40k.pth -d /content/Retrieval-based-Voice-Conversion-WebUI/pretrained -o f0D40k.pth\n",
        "!aria2c --console-log-level=error -c -x 16 -s 16 -k 1M https://huggingface.co/lj1995/VoiceConversionWebUI/resolve/main/pretrained/f0D48k.pth -d /content/Retrieval-based-Voice-Conversion-WebUI/pretrained -o f0D48k.pth\n",
        "!aria2c --console-log-level=error -c -x 16 -s 16 -k 1M https://huggingface.co/lj1995/VoiceConversionWebUI/resolve/main/pretrained/f0G32k.pth -d /content/Retrieval-based-Voice-Conversion-WebUI/pretrained -o f0G32k.pth\n",
        "!aria2c --console-log-level=error -c -x 16 -s 16 -k 1M https://huggingface.co/lj1995/VoiceConversionWebUI/resolve/main/pretrained/f0G40k.pth -d /content/Retrieval-based-Voice-Conversion-WebUI/pretrained -o f0G40k.pth\n",
        "!aria2c --console-log-level=error -c -x 16 -s 16 -k 1M https://huggingface.co/lj1995/VoiceConversionWebUI/resolve/main/pretrained/f0G48k.pth -d /content/Retrieval-based-Voice-Conversion-WebUI/pretrained -o f0G48k.pth\n",
        "\n",
        "!aria2c --console-log-level=error -c -x 16 -s 16 -k 1M https://huggingface.co/lj1995/VoiceConversionWebUI/resolve/main/uvr5_weights/HP2-人声vocals+非人声instrumentals.pth -d /content/Retrieval-based-Voice-Conversion-WebUI/uvr5_weights -o HP2-人声vocals+非人声instrumentals.pth\n",
        "!aria2c --console-log-level=error -c -x 16 -s 16 -k 1M https://huggingface.co/lj1995/VoiceConversionWebUI/resolve/main/uvr5_weights/HP5-主旋律人声vocals+其他instrumentals.pth -d /content/Retrieval-based-Voice-Conversion-WebUI/uvr5_weights -o HP5-主旋律人声vocals+其他instrumentals.pth\n",
        "\n",
        "!aria2c --console-log-level=error -c -x 16 -s 16 -k 1M https://huggingface.co/lj1995/VoiceConversionWebUI/resolve/main/hubert_base.pt -d /content/Retrieval-based-Voice-Conversion-WebUI -o hubert_base.pt"
      ],
      "metadata": {
        "id": "UG3XpUwEomUz",
        "cellView": "form"
      },
      "execution_count": null,
      "outputs": []
    },
    {
      "cell_type": "code",
      "source": [
        "#@markdown This will also create an RVC and dataset folders in your drive if they don't already exist.\n",
        "from google.colab import drive\n",
        "drive.mount('/content/drive', force_remount=True)\n",
        "!mkdir -p /content/drive/MyDrive/RVC\n",
        "!mkdir -p /content/drive/MyDrive/dataset\n",
        "!mkdir -p /content/EasyDataset"
      ],
      "metadata": {
        "id": "jwu07JgqoFON"
      },
      "execution_count": null,
      "outputs": []
    },
    {
      "cell_type": "markdown",
      "source": [
        "#Step 3. Run the GUI by tapping on the public URL. It's gonna look like this:\n",
        "![alt text](https://drive.google.com/uc?id=1YpraB1Fc8B24TCtdzOo_AmzMMGoZXZ2e)\n"
      ],
      "metadata": {
        "id": "dGDewjhS7wXS"
      }
    },
    {
      "cell_type": "code",
      "source": [
        "#@markdown #Click here to run the GUI\n",
        "%cd /content/Retrieval-based-Voice-Conversion-WebUI\n",
        "# %load_ext tensorboard\n",
        "# %tensorboard --logdir /content/Retrieval-based-Voice-Conversion-WebUI/logs\n",
        "!mkdir -p /content/Retrieval-based-Voice-Conversion-WebUI/audios\n",
        "!python3 trainig-web.py --colab --pycmd python3"
      ],
      "metadata": {
        "id": "7vh6vphDwO0b"
      },
      "execution_count": null,
      "outputs": []
    },
    {
      "cell_type": "markdown",
      "source": [
        "# Step 4. If you need to save a model to your RVC folder, choose a method."
      ],
      "metadata": {
        "id": "TNd_AYmtodr4"
      }
    },
    {
      "cell_type": "code",
      "source": [
        "#@markdown ##Do you want to save a 1GB file? Only needed if you want to train this model more later.\n",
        "save_big_file=False#@param {type:\"boolean\"}\n",
        "#@markdown Write the name of the model and the steps. You can find that in the log for your model.\n",
        "%cd /content\n",
        "import shutil, os\n",
        "MODELNAME = \"paulmccartney\"  #@param {type:\"string\"}\n",
        "MODELEPOCH = 2333333  #@param {type:\"integer\"}\n",
        "\n",
        "if os.path.exists('/content/zips'):\n",
        "  shutil.rmtree('/content/zips')\n",
        "print('Removed zips.')\n",
        "!mkdir -p /content/zips/{MODELNAME}/\n",
        "print('Created zips.')\n",
        "if f\"{MODELNAME}.pth\" not in os.listdir(f'/content/Retrieval-based-Voice-Conversion-WebUI/weights'):\n",
        "  raise Exception('There is no model with that name')\n",
        "!cp /content/Retrieval-based-Voice-Conversion-WebUI/logs/{MODELNAME}/added_*.index /content/zips/{MODELNAME}/\n",
        "!cp /content/Retrieval-based-Voice-Conversion-WebUI/logs/{MODELNAME}/total_*.npy /content/zips/{MODELNAME}/\n",
        "!cp /content/Retrieval-based-Voice-Conversion-WebUI/weights/{MODELNAME}.pth /content/zips/{MODELNAME}/{MODELNAME}{MODELEPOCH}.pth\n",
        "if save_big_file:\n",
        "  !cp /content/Retrieval-based-Voice-Conversion-WebUI/logs/{MODELNAME}/G_{MODELEPOCH}.pth /content/zips/{MODELNAME}/{MODELNAME}_D_{MODELEPOCH}.pth\n",
        "  !cp /content/Retrieval-based-Voice-Conversion-WebUI/logs/{MODELNAME}/D_{MODELEPOCH}.pth /content/zips/{MODELNAME}/{MODELNAME}_G_{MODELEPOCH}.pth\n",
        "\n",
        "\n",
        "!mkdir -p /content/drive/MyDrive/RVC/\n",
        "\n",
        "%cd /content/zips\n",
        "!zip -r {MODELNAME}.zip {MODELNAME}\n",
        "shutil.move(f'/content/zips/{MODELNAME}.zip',f'/content/drive/MyDrive/RVC/{MODELNAME}.zip')\n",
        "%cd /content\n",
        "shutil.rmtree(\"/content/zips\")\n",
        "clear_output()\n",
        "display(success)"
      ],
      "metadata": {
        "id": "POuTKzt8gZmF"
      },
      "execution_count": null,
      "outputs": []
    },
    {
      "cell_type": "markdown",
      "source": [
        "#Extra Stuff (These are tools to make your job easier)"
      ],
      "metadata": {
        "id": "p9SHghdUw2O_"
      }
    },
    {
      "cell_type": "code",
      "source": [
        "#@markdown #Text To Speech GUI\n",
        "from IPython.display import clear_output\n",
        "if not \"tts_installed\" in locals():\n",
        "  %cd /content/\n",
        "  !pip uninstall -y cmake\n",
        "  !wget https://github.com/Kitware/CMake/releases/download/v3.22.1/cmake-3.22.1-linux-x86_64.tar.gz\n",
        "  !tar xf cmake-3.22.1-linux-x86_64.tar.gz\n",
        "  !rm cmake-3.22.1-linux-x86_64.tar.gz\n",
        "  !PATH=$PATH:/content/cmake-3.22.1-linux-x86_64/bin\n",
        "  import os\n",
        "  os.environ[\"PATH\"] += \":/content/cmake-3.22.1-linux-x86_64/bin\"\n",
        "  !apt-get install espeak\n",
        "  !git clone https://github.com/log1stics/voice-generator-webui\n",
        "  %cd voice-generator-webui\n",
        "  !chmod +x setup.sh\n",
        "  !./setup.sh\n",
        "  clear_output()\n",
        "  tts_installed=True\n",
        "%cd /content/Retrieval-based-Voice-Conversion-WebUI/weights/\n",
        "!for file in *.pth; do folder=\"${file%.pth}\"; mkdir -p \"/content/voice-generator-webui/vc/models/$folder\"; cp \"$file\" \"/content/voice-generator-webui/vc/models/$folder\"; mv \"$folder\" \"/content/voice-generator-webui/vc/models\"; done\n",
        "%cd /content/voice-generator-webui\n",
        "!python3 webui.py --colab"
      ],
      "metadata": {
        "id": "Y-6VkSiqXQcH"
      },
      "execution_count": null,
      "outputs": []
    },
    {
      "cell_type": "code",
      "source": [
        "#@markdown # Backup each folder as .zip in /logs/ (to your Drive)\n",
        "#@markdown You will need this to continue training later.\n",
        "import os\n",
        "import shutil\n",
        "\n",
        "logs_dir = '/content/Retrieval-based-Voice-Conversion-WebUI/logs/'\n",
        "output_dir = '/content/drive/MyDrive/RVC/'\n",
        "\n",
        "# Get a list of all folders in the logs directory\n",
        "folders = [folder for folder in os.listdir(logs_dir) if os.path.isdir(os.path.join(logs_dir, folder))]\n",
        "\n",
        "# Create the output directory if it doesn't exist\n",
        "os.makedirs(output_dir, exist_ok=True)\n",
        "\n",
        "# Iterate over each folder and zip it\n",
        "for folder in folders:\n",
        "    folder_path = os.path.join(logs_dir, folder)\n",
        "    zip_file_path = os.path.join(output_dir, f'{folder}_TrainingData.zip')  # Change here\n",
        "\n",
        "    # Check if the zip file already exists in the output directory\n",
        "    if os.path.exists(zip_file_path):\n",
        "        existing_size = os.path.getsize(zip_file_path)\n",
        "        shutil.make_archive(folder_path, 'zip', folder_path)\n",
        "        new_size = os.path.getsize(f'{folder_path}.zip')\n",
        "        if existing_size == new_size:\n",
        "            print(f'Skipped {folder} because a zip with the same name and size already exists in {output_dir}')\n",
        "            continue\n",
        "\n",
        "    # Zip the folder\n",
        "    shutil.make_archive(folder_path, 'zip', folder_path)\n",
        "\n",
        "    # Move the zip file to the output directory\n",
        "    shutil.move(f'{folder_path}.zip', zip_file_path)\n",
        "\n",
        "    print(f'Zipped {folder} and saved it as {zip_file_path}')\n"
      ],
      "metadata": {
        "id": "z3XpbYLsov1_"
      },
      "execution_count": null,
      "outputs": []
    },
    {
      "cell_type": "code",
      "source": [
        "import os\n",
        "import os.path\n",
        "import shutil\n",
        "#@title Manual Zip loading from Google Drive\n",
        "\n",
        "#@markdown Model Zip Location\n",
        "\n",
        "MODELLOCATION = \"/content/drive/MyDrive/b10.zip\"  #@param {type:\"string\"}\n",
        "\n",
        "!mkdir -p /content/Retrieval-based-Voice-Conversion-WebUI/logs/{MODELNAME}\n",
        "!mkdir -p /content/unzips/{MODELNAME}/\n",
        "!unzip -d /content/unzips/{MODELNAME} -B {MODELLOCATION}\n",
        "\n",
        "# Set your source and destination directories\n",
        "source_dir = os.path.join(\"/content/unzips/\", MODELNAME)\n",
        "#@markdown If you use this, you'll have to move the files manually."
      ],
      "metadata": {
        "id": "zcojhbN2R355"
      },
      "execution_count": null,
      "outputs": []
    },
    {
      "cell_type": "code",
      "source": [
        "#@title Easy Dataset Maker\n",
        "#@markdown Just upload the .wav acapellas you want into the **EasyDataset** folder (make sure it is good quality stuff, please)\n",
        "#@markdown Do not use spaces, weird symbols, or anything like that.\n",
        "if not \"pydub_installed\" in locals():\n",
        "  !pip install pydub --quiet\n",
        "  pydub_installed=True\n",
        "\n",
        "from pydub import AudioSegment\n",
        "import os, shutil, wave\n",
        "from google.colab import files\n",
        "auto_delete_original_acapella=True#@param {type:\"boolean\"}\n",
        "\n",
        "save_to_drive=True#@param {type:\"boolean\"}\n",
        "#@markdown Choose a name for your dataset (you will use this later in the GUI)\n",
        "dataset_name='mydataset'#@param {type:\"string\"}\n",
        "if not \"installed_pydub\" in locals():\n",
        "  !pip install pydub --quiet\n",
        "\n",
        "if not os.path.exists('/content/EasyDataset'):\n",
        "  !mkdir -p /content/EasyDataset\n",
        "  os.chdir('/content/EasyDataset')\n",
        "  print(\"Upload some files.\")\n",
        "  uploaded = files.upload()\n",
        "else:\n",
        "  os.chdir('/content/EasyDataset')\n",
        "  if not os.listdir():\n",
        "    print(\"Upload some files.\")\n",
        "    uploaded = files.upload()\n",
        "\n",
        "for filename in os.listdir():\n",
        "    if filename.endswith(\".wav\"):\n",
        "        sound = AudioSegment.from_wav(filename)\n",
        "        sound = sound.set_channels(1)\n",
        "        new_filename = filename\n",
        "        sound.export('mono_'+new_filename, format=\"wav\")\n",
        "        os.remove(filename)\n",
        "\n",
        "# define the length of each clip in seconds\n",
        "clip_length = 10\n",
        "# iterate over all .wav files in the current directory\n",
        "for filename in os.listdir():\n",
        "    if not filename.endswith('.wav'):\n",
        "        continue\n",
        "    # open the WAV file and get the sample rate\n",
        "    wav_file = wave.open(filename, 'rb')\n",
        "    sample_rate = wav_file.getframerate()\n",
        "    # calculate the number of frames in each clip\n",
        "    clip_frames = clip_length * sample_rate\n",
        "    # iterate over each clip and write it to a new file\n",
        "    for i in range(int(wav_file.getnframes() / clip_frames) + 1):\n",
        "        clip_name = f\"{filename.split('.')[0]}_{i+1}.wav\"\n",
        "        clip_path = 'split_'+clip_name\n",
        "        clip_start = i * clip_frames\n",
        "        clip_end = min((i+1) * clip_frames, wav_file.getnframes())\n",
        "\n",
        "        # write the clip to a new file\n",
        "        with wave.open(clip_path, 'wb') as clip_file:\n",
        "            clip_file.setparams(wav_file.getparams())\n",
        "            clip_file.writeframes(wav_file.readframes(clip_end - clip_start))\n",
        "    # close the original file\n",
        "    wav_file.close()\n",
        "    os.remove(filename)\n",
        "!mkdir -p /content/dataset/{dataset_name}\n",
        "for everything in os.listdir('/content/EasyDataset'):\n",
        "  shutil.move(everything, f'/content/dataset/{dataset_name}')\n",
        "!ls -a /content/dataset/\n",
        "!rename 's/(\\w+)\\.(\\w+)~(\\d*)/$1_$3.$2/' /content/dataset/*.*~*\n",
        "os.chdir(f'/content/dataset')\n",
        "print(f\"Your dataset has been saved to: /content/dataset/{dataset_name}\")\n",
        "if auto_delete_original_acapella:\n",
        "  shutil.rmtree('/content/EasyDataset')\n",
        "  !mkdir -p /content/EasyDataset\n",
        "if save_to_drive:\n",
        "  !zip -r {dataset_name}.zip {dataset_name}\n",
        "  shutil.move(f'/content/dataset/{dataset_name}.zip','/content/drive/MyDrive/dataset')\n",
        "os.chdir('/content')"
      ],
      "metadata": {
        "cellView": "form",
        "id": "dF8MCnjxldPC"
      },
      "execution_count": null,
      "outputs": []
    }
  ]
}