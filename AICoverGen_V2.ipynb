{
  "cells": [
    {
      "cell_type": "markdown",
      "metadata": {
        "id": "view-in-github",
        "colab_type": "text"
      },
      "source": [
        "<a href=\"https://colab.research.google.com/github/laynz28/RCV-AI-COVER-ALL/blob/main/AICoverGen_V2.ipynb\" target=\"_parent\"><img src=\"https://colab.research.google.com/assets/colab-badge.svg\" alt=\"Open In Colab\"/></a>"
      ]
    },
    {
      "cell_type": "markdown",
      "metadata": {
        "id": "39k2mOCNAh6J"
      },
      "source": [
        "[![Open In Colab](https://colab.research.google.com/assets/colab-badge.svg)](https://colab.research.google.com/github/SociallyIneptWeeb/AICoverGen/blob/main/AICoverGen_colab.ipynb)"
      ]
    },
    {
      "cell_type": "code",
      "source": [
        "#@title #Fix Colab Cuda\n",
        "from IPython.display import clear_output, Javascript\n",
        "\n",
        "!sudo apt update\n",
        "!yes | sudo DEBIAN_FRONTEND=noninteractive apt-get -yq install cuda-11-8\n",
        "\n",
        "clear_output()\n",
        "print(\"Done Fix Cuda\")"
      ],
      "metadata": {
        "cellView": "form",
        "id": "RjYJoJNyhyMI"
      },
      "execution_count": null,
      "outputs": []
    },
    {
      "cell_type": "markdown",
      "source": [
        "# AICoverGen WebUI mod\n",
        "\n",
        "Simply click `Runtime` in the top navigation bar and `Run all`. Wait for the output of the final cell to show the public `gradio url` and click on it."
      ],
      "metadata": {
        "id": "YYVAKuNBc-X4"
      }
    },
    {
      "cell_type": "markdown",
      "source": [
        "\"if you are patient you will get good results :)\""
      ],
      "metadata": {
        "id": "uxe6qg2xmc-U"
      }
    },
    {
      "cell_type": "code",
      "execution_count": null,
      "metadata": {
        "id": "vC4gLMHI9xb3",
        "cellView": "form"
      },
      "outputs": [],
      "source": [
        "#@title #Clone repository\n",
        "from IPython.display import clear_output, Javascript\n",
        "import codecs\n",
        "import threading\n",
        "import time\n",
        "!git clone https://github.com/HoshioPilio/RVC-AICOVERGEN AiCoverGen\n",
        "def update_timer_and_print():\n",
        "    global timer\n",
        "    while True:\n",
        "        hours, remainder = divmod(timer, 3600)\n",
        "        minutes, seconds = divmod(remainder, 60)\n",
        "        timer_str = f'{hours:02}:{minutes:02}:{seconds:02}'\n",
        "        print(f'\\rTimer: {timer_str}', end='', flush=True)  # Print without a newline\n",
        "        time.sleep(1)\n",
        "        timer += 1\n",
        "timer = 0\n",
        "threading.Thread(target=update_timer_and_print, daemon=True).start()\n",
        "\n",
        "!rm -rf sample_data\n",
        "%cd AiCoverGen\n",
        "clear_output()\n",
        "print(\"Done Cloning Repository\")"
      ]
    },
    {
      "cell_type": "code",
      "execution_count": null,
      "metadata": {
        "cellView": "form",
        "id": "odzpJHpr_PaF"
      },
      "outputs": [],
      "source": [
        "#@title #Install requirements\n",
        "!pip install -q -r requirements.txt\n",
        "clear_output()\n",
        "print(\"Finished Installing Requirements\")\n",
        "!sudo apt update\n",
        "clear_output()\n",
        "print(\"Finished Updating\")\n",
        "!sudo apt install sox\n",
        "clear_output()\n",
        "print(\"Finsihed running this cell, proceed to the next cell\")"
      ]
    },
    {
      "cell_type": "code",
      "execution_count": null,
      "metadata": {
        "cellView": "form",
        "id": "SLWpcJc0AHSZ"
      },
      "outputs": [],
      "source": [
        "#@title Download MDXNet Vocal Separation and Hubert Base Models\n",
        "models=codecs.decode('fep/qbjaybnq_zbqryf.cl','rot_13')\n",
        "!python $models\n",
        "clear_output()\n",
        "print(\"Finished Downloading Voice Separation Model and Hubert Base Model\")"
      ]
    },
    {
      "cell_type": "code",
      "source": [
        "#@title Run the WebUI\n",
        "%cd /content/AiCoverGen\n",
        "runpice=codecs.decode('fep/jrohv.cl','rot_13')\n",
        "!python $runpice --share"
      ],
      "metadata": {
        "cellView": "form",
        "id": "NEglTq6Ya9d0"
      },
      "execution_count": null,
      "outputs": []
    },
    {
      "cell_type": "markdown",
      "source": [
        "# Drive"
      ],
      "metadata": {
        "id": "s7BwW33Fm3cN"
      }
    },
    {
      "cell_type": "code",
      "source": [
        "#@title #mount drive\n",
        "\n",
        "from google.colab import drive\n",
        "drive.mount('/content/drive')"
      ],
      "metadata": {
        "cellView": "form",
        "id": "Z82yovabnVWq"
      },
      "execution_count": null,
      "outputs": []
    },
    {
      "cell_type": "code",
      "source": [
        "\n",
        "#@title #Copy `content/AiCoverGen` to drive for automatic saving\n",
        "\n",
        "\n",
        "!cp -r /content/AiCoverGen /content/drive/MyDrive"
      ],
      "metadata": {
        "cellView": "form",
        "id": "OufZbxKPomHi"
      },
      "execution_count": null,
      "outputs": []
    },
    {
      "cell_type": "code",
      "source": [
        "\n",
        "#@title click this to connect with `content/drive/MyDrive/AiCoverGen`\n",
        "%cd /content/drive/MyDrive/AiCoverGen"
      ],
      "metadata": {
        "cellView": "form",
        "id": "tYyAdqZznj2b"
      },
      "execution_count": null,
      "outputs": []
    },
    {
      "cell_type": "code",
      "source": [
        "#@title #Install requirements\n",
        "%cd /content/drive/MyDrive/AiCoverGen\n",
        "!pip install -q -r requirements.txt\n",
        "clear_output()\n",
        "print(\"Finished Installing Requirements\")\n",
        "!sudo apt update\n",
        "clear_output()\n",
        "print(\"Finished Updating\")\n",
        "!sudo apt install sox\n",
        "clear_output()\n",
        "print(\"Finsihed running this cell, proceed to the next cell\")"
      ],
      "metadata": {
        "cellView": "form",
        "id": "UMPjHIM0m_zl"
      },
      "execution_count": null,
      "outputs": []
    },
    {
      "cell_type": "code",
      "source": [
        "#@title #Download MDXNet Vocal Separation and Hubert Base Models\n",
        "import codecs\n",
        "models=codecs.decode('fep/qbjaybnq_zbqryf.cl','rot_13')\n",
        "!python $models\n",
        "clear_output()\n",
        "print(\"Finished Downloading Voice Separation Model and Hubert Base Model\")"
      ],
      "metadata": {
        "cellView": "form",
        "id": "bKZkZ7J8oE89"
      },
      "execution_count": null,
      "outputs": []
    },
    {
      "cell_type": "code",
      "source": [
        "#@title Run the WebUI\n",
        "runpice=codecs.decode('fep/jrohv.cl','rot_13')\n",
        "!python $runpice --share"
      ],
      "metadata": {
        "cellView": "form",
        "id": "L85iS-dboLOj"
      },
      "execution_count": null,
      "outputs": []
    },
    {
      "cell_type": "markdown",
      "source": [
        "# no ui"
      ],
      "metadata": {
        "id": "-I7ob1cqV96O"
      }
    },
    {
      "cell_type": "code",
      "source": [
        "#@title Model Download Function\n",
        "\n",
        "import os\n",
        "import zipfile\n",
        "import shutil\n",
        "import urllib.request\n",
        "\n",
        "BASE_DIR = os.getcwd()\n",
        "rvc_models_dir = os.path.join(BASE_DIR, 'rvc_models')\n",
        "\n",
        "def extract_zip(extraction_folder, zip_name):\n",
        "    os.makedirs(extraction_folder)\n",
        "    with zipfile.ZipFile(zip_name, 'r') as zip_ref:\n",
        "        zip_ref.extractall(extraction_folder)\n",
        "    os.remove(zip_name)\n",
        "\n",
        "    index_filepath, model_filepath = None, None\n",
        "    for root, dirs, files in os.walk(extraction_folder):\n",
        "        for name in files:\n",
        "            if name.endswith('.index') and os.stat(os.path.join(root, name)).st_size > 1024 * 100:\n",
        "                index_filepath = os.path.join(root, name)\n",
        "\n",
        "            if name.endswith('.pth') and os.stat(os.path.join(root, name)).st_size > 1024 * 1024 * 40:\n",
        "                model_filepath = os.path.join(root, name)\n",
        "\n",
        "    if not model_filepath:\n",
        "        raise Exception(f'No .pth model file was found in the extracted zip. Please check {extraction_folder}.')\n",
        "\n",
        "    # move model and index file to extraction folder\n",
        "    os.rename(model_filepath, os.path.join(extraction_folder, os.path.basename(model_filepath)))\n",
        "    if index_filepath:\n",
        "        os.rename(index_filepath, os.path.join(extraction_folder, os.path.basename(index_filepath)))\n",
        "\n",
        "    # remove any unnecessary nested folders\n",
        "    for filepath in os.listdir(extraction_folder):\n",
        "        if os.path.isdir(os.path.join(extraction_folder, filepath)):\n",
        "            shutil.rmtree(os.path.join(extraction_folder, filepath))\n",
        "\n",
        "def download_online_model(url, dir_name):\n",
        "    try:\n",
        "        print(f'[~] Downloading voice model with name {dir_name}...')\n",
        "        zip_name = url.split('/')[-1]\n",
        "        extraction_folder = os.path.join(rvc_models_dir, dir_name)\n",
        "        if os.path.exists(extraction_folder):\n",
        "            raise Exception(f'Voice model directory {dir_name} already exists! Choose a different name for your voice model.')\n",
        "\n",
        "        if 'pixeldrain.com' in url:\n",
        "            url = f'https://pixeldrain.com/api/file/{zip_name}'\n",
        "\n",
        "        urllib.request.urlretrieve(url, zip_name)\n",
        "\n",
        "        print('[~] Extracting zip...')\n",
        "        extract_zip(extraction_folder, zip_name)\n",
        "        print(f'[+] {dir_name} Model successfully downloaded!')\n",
        "\n",
        "    except Exception as e:\n",
        "        raise Exception(str(e))\n",
        "\n",
        "url = \"https://pixeldrain.com/u/7osoXtcW\" # @param {type:\"string\"}\n",
        "dir_name = \"LYN\" # @param {type:\"string\"}\n",
        "\n",
        "download_online_model(url, dir_name)"
      ],
      "metadata": {
        "cellView": "form",
        "id": "6NVljrO1WDD4"
      },
      "execution_count": null,
      "outputs": []
    },
    {
      "cell_type": "code",
      "source": [
        "# @title Generate | Output generated inside \"AICoverGen\\song_output\\random_number\"\n",
        "# @markdown Main Option | You also can input audio path inside \"SONG_INPUT\"\n",
        "SONG_INPUT = \"https://youtu.be/3NoKAOTE_ZI?si=JOmjYZVFZ7pxYzho\" # @param {type:\"string\"}\n",
        "RVC_DIRNAME = \"LYN\" # @param {type:\"string\"}\n",
        "PITCH_CHANGE = -1 # @param {type:\"integer\"}\n",
        "PITCH_CHANGE_ALL = 0 # @param {type:\"integer\"}\n",
        "# @markdown Voice Conversion Options\n",
        "INDEX_RATE = 0.5 # @param {type:\"number\"}\n",
        "FILTER_RADIUS = 3 # @param {type:\"integer\"}\n",
        "PITCH_DETECTION_ALGO = \"rmvpe\" # @param [\"rmvpe\", \"mangio-crepe\"]\n",
        "CREPE_HOP_LENGTH = 128 # @param {type:\"integer\"}\n",
        "PROTECT = 0.33 # @param {type:\"number\"}\n",
        "REMIX_MIX_RATE = 0.25  # @param {type:\"number\"}\n",
        "# @markdown Audio Mixing Options\n",
        "MAIN_VOL = 0 # @param {type:\"integer\"}\n",
        "BACKUP_VOL = 0 # @param {type:\"integer\"}\n",
        "INST_VOL = 0 # @param {type:\"integer\"}\n",
        "# @markdown Reverb Control\n",
        "REVERB_SIZE = 0.15 # @param {type:\"number\"}\n",
        "REVERB_WETNESS = 0.2 # @param {type:\"number\"}\n",
        "REVERB_DRYNESS = 0.8 # @param {type:\"number\"}\n",
        "REVERB_DAMPING = 0.7 # @param {type:\"number\"}\n",
        "# @markdown Output Format\n",
        "OUTPUT_FORMAT = \"mp3\" # @param [\"mp3\", \"wav\"]\n",
        "\n",
        "import subprocess\n",
        "\n",
        "command = [\n",
        "    \"python\",\n",
        "    \"src/main.py\",\n",
        "    \"-i\", SONG_INPUT,\n",
        "    \"-dir\", RVC_DIRNAME,\n",
        "    \"-p\", str(PITCH_CHANGE),\n",
        "    \"-k\",\n",
        "    \"-ir\", str(INDEX_RATE),\n",
        "    \"-fr\", str(FILTER_RADIUS),\n",
        "    \"-rms\", str(REMIX_MIX_RATE),\n",
        "    \"-palgo\", PITCH_DETECTION_ALGO,\n",
        "    \"-hop\", str(CREPE_HOP_LENGTH),\n",
        "    \"-pro\", str(PROTECT),\n",
        "    \"-mv\", str(MAIN_VOL),\n",
        "    \"-bv\", str(BACKUP_VOL),\n",
        "    \"-iv\", str(INST_VOL),\n",
        "    \"-pall\", str(PITCH_CHANGE_ALL),\n",
        "    \"-rsize\", str(REVERB_SIZE),\n",
        "    \"-rwet\", str(REVERB_WETNESS),\n",
        "    \"-rdry\", str(REVERB_DRYNESS),\n",
        "    \"-rdamp\", str(REVERB_DAMPING),\n",
        "    \"-oformat\", OUTPUT_FORMAT\n",
        "]\n",
        "\n",
        "# Open a subprocess and capture its output\n",
        "process = subprocess.Popen(command, stdout=subprocess.PIPE, stderr=subprocess.STDOUT, universal_newlines=True)\n",
        "\n",
        "# Print the output in real-time\n",
        "for line in process.stdout:\n",
        "    print(line, end='')\n",
        "\n",
        "# Wait for the process to finish\n",
        "process.wait()"
      ],
      "metadata": {
        "cellView": "form",
        "id": "-h7ea-_xV-18"
      },
      "execution_count": null,
      "outputs": []
    }
  ],
  "metadata": {
    "accelerator": "GPU",
    "colab": {
      "provenance": [],
      "collapsed_sections": [
        "s7BwW33Fm3cN"
      ],
      "include_colab_link": true
    },
    "kernelspec": {
      "display_name": "Python 3",
      "name": "python3"
    },
    "language_info": {
      "name": "python"
    }
  },
  "nbformat": 4,
  "nbformat_minor": 0
}