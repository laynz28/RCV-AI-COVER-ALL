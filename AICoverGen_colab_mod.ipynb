{
  "cells": [
    {
      "cell_type": "markdown",
      "metadata": {
        "id": "view-in-github",
        "colab_type": "text"
      },
      "source": [
        "<a href=\"https://colab.research.google.com/github/laynz28/RCV-AI-COVER-ALL/blob/main/AICoverGen_colab_mod.ipynb\" target=\"_parent\"><img src=\"https://colab.research.google.com/assets/colab-badge.svg\" alt=\"Open In Colab\"/></a>"
      ]
    },
    {
      "cell_type": "markdown",
      "metadata": {
        "id": "39k2mOCNAh6J"
      },
      "source": [
        "[![Open In Colab](https://colab.research.google.com/assets/colab-badge.svg)](https://colab.research.google.com/github/SociallyIneptWeeb/AICoverGen/blob/main/AICoverGen_colab.ipynb)"
      ]
    },
    {
      "cell_type": "markdown",
      "source": [
        "# AICoverGen WebUI\n",
        "\n",
        "Simply click `Runtime` in the top navigation bar and `Run all`. Wait for the output of the final cell to show the public gradio url and click on it."
      ],
      "metadata": {
        "id": "YYVAKuNBc-X4"
      }
    },
    {
      "cell_type": "code",
      "source": [
        "from google.colab import drive\n",
        "drive.mount('/content/drive')"
      ],
      "metadata": {
        "id": "t5ADApy6XEYs",
        "outputId": "74d36028-c50a-45b6-c1c7-1282f1c79d42",
        "colab": {
          "base_uri": "https://localhost:8080/"
        }
      },
      "execution_count": 1,
      "outputs": [
        {
          "output_type": "stream",
          "name": "stdout",
          "text": [
            "Mounted at /content/drive\n"
          ]
        }
      ]
    },
    {
      "cell_type": "code",
      "source": [
        "!cp -r /content/HRVC /content/drive/MyDrive"
      ],
      "metadata": {
        "id": "5lVv2mhdZ2SZ",
        "outputId": "976663da-32c2-4f24-abc7-ba1ebee6b4e3",
        "colab": {
          "base_uri": "https://localhost:8080/"
        }
      },
      "execution_count": null,
      "outputs": [
        {
          "output_type": "stream",
          "name": "stdout",
          "text": [
            "Timer: 00:12:00"
          ]
        }
      ]
    },
    {
      "cell_type": "code",
      "source": [
        "%cd /content/drive/MyDrive/HRVC"
      ],
      "metadata": {
        "id": "lJ_yPN1QJlj_",
        "colab": {
          "base_uri": "https://localhost:8080/"
        },
        "outputId": "a77b1d27-9c64-4a35-c7c4-13638ffd83f0"
      },
      "execution_count": 4,
      "outputs": [
        {
          "output_type": "stream",
          "name": "stdout",
          "text": [
            "/content/drive/MyDrive/HRVC\n"
          ]
        }
      ]
    },
    {
      "cell_type": "code",
      "execution_count": 3,
      "metadata": {
        "id": "vC4gLMHI9xb3",
        "cellView": "form",
        "outputId": "39df1c1f-ad03-487b-964b-bddfe35df522",
        "colab": {
          "base_uri": "https://localhost:8080/"
        }
      },
      "outputs": [
        {
          "output_type": "stream",
          "name": "stdout",
          "text": [
            "Done Cloning Repository\n",
            "Timer: 00:00:01"
          ]
        }
      ],
      "source": [
        "#@title Clone repository\n",
        "from IPython.display import clear_output, Javascript\n",
        "import codecs\n",
        "import threading\n",
        "import time\n",
        "cloneing=codecs.decode('uggcf://tvguho.pbz/FbpvnyylVarcgJrro/NVPbireTra.tvg','rot_13')\n",
        "!git clone $cloneing HRVC\n",
        "def update_timer_and_print():\n",
        "    global timer\n",
        "    while True:\n",
        "        hours, remainder = divmod(timer, 3600)\n",
        "        minutes, seconds = divmod(remainder, 60)\n",
        "        timer_str = f'{hours:02}:{minutes:02}:{seconds:02}'\n",
        "        print(f'\\rTimer: {timer_str}', end='', flush=True)  # Print without a newline\n",
        "        time.sleep(1)\n",
        "        timer += 1\n",
        "timer = 0\n",
        "threading.Thread(target=update_timer_and_print, daemon=True).start()\n",
        "\n",
        "!rm -rf sample_data\n",
        "%cd HRVC\n",
        "clear_output()\n",
        "print(\"Done Cloning Repository\")"
      ]
    },
    {
      "cell_type": "code",
      "execution_count": 5,
      "metadata": {
        "cellView": "form",
        "id": "odzpJHpr_PaF",
        "outputId": "4660e00a-dd87-4355-84d3-27177aa4efce",
        "colab": {
          "base_uri": "https://localhost:8080/"
        }
      },
      "outputs": [
        {
          "output_type": "stream",
          "name": "stdout",
          "text": [
            "Finsihed running this cell, proceed to the next cell\n"
          ]
        }
      ],
      "source": [
        "#@title Install requirements\n",
        "!pip install -q -r requirements.txt\n",
        "clear_output()\n",
        "print(\"Finished Installing Requirements\")\n",
        "!sudo apt update\n",
        "clear_output()\n",
        "print(\"Finished Updating\")\n",
        "!sudo apt install sox\n",
        "clear_output()\n",
        "print(\"Finsihed running this cell, proceed to the next cell\")"
      ]
    },
    {
      "cell_type": "code",
      "execution_count": 6,
      "metadata": {
        "cellView": "form",
        "id": "SLWpcJc0AHSZ",
        "outputId": "e5252813-432d-4746-d74c-3f0db8926219",
        "colab": {
          "base_uri": "https://localhost:8080/"
        }
      },
      "outputs": [
        {
          "output_type": "stream",
          "name": "stdout",
          "text": [
            "Finished Downloading Voice Separation Model and Hubert Base Model\n"
          ]
        }
      ],
      "source": [
        "#@title Download MDXNet Vocal Separation and Hubert Base Models\n",
        "models=codecs.decode('fep/qbjaybnq_zbqryf.cl','rot_13')\n",
        "!python $models\n",
        "clear_output()\n",
        "print(\"Finished Downloading Voice Separation Model and Hubert Base Model\")"
      ]
    },
    {
      "cell_type": "code",
      "source": [
        "#@title Run WebUI\n",
        "runpice=codecs.decode('fep/jrohv.cl','rot_13')\n",
        "!python $runpice --share"
      ],
      "metadata": {
        "cellView": "form",
        "id": "NEglTq6Ya9d0",
        "outputId": "6e19763e-2852-4c35-8bf5-48e2c91cfa9a",
        "colab": {
          "base_uri": "https://localhost:8080/"
        }
      },
      "execution_count": null,
      "outputs": [
        {
          "output_type": "stream",
          "name": "stdout",
          "text": [
            "Timer: 00:07:122023-12-04 08:27:05.582924: E tensorflow/compiler/xla/stream_executor/cuda/cuda_dnn.cc:9342] Unable to register cuDNN factory: Attempting to register factory for plugin cuDNN when one has already been registered\n",
            "2023-12-04 08:27:05.582984: E tensorflow/compiler/xla/stream_executor/cuda/cuda_fft.cc:609] Unable to register cuFFT factory: Attempting to register factory for plugin cuFFT when one has already been registered\n",
            "2023-12-04 08:27:05.583021: E tensorflow/compiler/xla/stream_executor/cuda/cuda_blas.cc:1518] Unable to register cuBLAS factory: Attempting to register factory for plugin cuBLAS when one has already been registered\n",
            "2023-12-04 08:27:05.596392: I tensorflow/core/platform/cpu_feature_guard.cc:182] This TensorFlow binary is optimized to use available CPU instructions in performance-critical operations.\n",
            "To enable the following instructions: AVX2 AVX512F FMA, in other operations, rebuild TensorFlow with the appropriate compiler flags.\n",
            "Timer: 00:07:142023-12-04 08:27:07.567851: W tensorflow/compiler/tf2tensorrt/utils/py_utils.cc:38] TF-TRT Warning: Could not find TensorRT\n",
            "Timer: 00:07:172023-12-04 08:27:10 | INFO | fairseq.tasks.text_to_speech | Please install tensorboardX: pip install tensorboardX\n",
            "Timer: 00:07:202023-12-04 08:27:13 | INFO | faiss.loader | Loading faiss with AVX2 support.\n",
            "2023-12-04 08:27:13 | INFO | faiss.loader | Successfully loaded faiss with AVX2 support.\n",
            "Timer: 00:07:22Running on local URL:  http://127.0.0.1:7860\n",
            "Timer: 00:07:28Running on public URL: https://8bfb4679d3388042d6.gradio.live\n",
            "\n",
            "This share link expires in 72 hours. For free permanent hosting and GPU upgrades, run `gradio deploy` from Terminal to deploy to Spaces (https://huggingface.co/spaces)\n",
            "Timer: 00:07:562023-12-04 08:27:49 | INFO | httpx | HTTP Request: POST http://127.0.0.1:7860/api/predict \"HTTP/1.1 200 OK\"\n",
            "Timer: 00:07:572023-12-04 08:27:50 | INFO | httpx | HTTP Request: POST http://127.0.0.1:7860/reset \"HTTP/1.1 200 OK\"\n",
            "100% 42/42 [00:12<00:00,  3.37it/s]\n",
            "100% 42/42 [00:11<00:00,  3.52it/s]\n",
            "100% 40/40 [00:08<00:00,  4.62it/s]\n",
            "100% 40/40 [00:08<00:00,  4.55it/s]\n",
            "100% 20/20 [00:11<00:00,  1.70it/s]\n",
            "100% 20/20 [00:12<00:00,  1.66it/s]\n",
            "Timer: 00:10:452023-12-04 08:30:38 | INFO | fairseq.tasks.hubert_pretraining | current directory is /content/drive/MyDrive/HRVC\n",
            "2023-12-04 08:30:38 | INFO | fairseq.tasks.hubert_pretraining | HubertPretrainingTask Config {'_name': 'hubert_pretraining', 'data': 'metadata', 'fine_tuning': False, 'labels': ['km'], 'label_dir': 'label', 'label_rate': 50.0, 'sample_rate': 16000, 'normalize': False, 'enable_padding': False, 'max_keep_size': None, 'max_sample_size': 250000, 'min_sample_size': 32000, 'single_target': False, 'random_crop': True, 'pad_audio': False}\n",
            "2023-12-04 08:30:38 | INFO | fairseq.models.hubert.hubert | HubertModel Config: {'_name': 'hubert', 'label_rate': 50.0, 'extractor_mode': default, 'encoder_layers': 12, 'encoder_embed_dim': 768, 'encoder_ffn_embed_dim': 3072, 'encoder_attention_heads': 12, 'activation_fn': gelu, 'layer_type': transformer, 'dropout': 0.1, 'attention_dropout': 0.1, 'activation_dropout': 0.0, 'encoder_layerdrop': 0.05, 'dropout_input': 0.1, 'dropout_features': 0.1, 'final_dim': 256, 'untie_final_proj': True, 'layer_norm_first': False, 'conv_feature_layers': '[(512,10,5)] + [(512,3,2)] * 4 + [(512,2,2)] * 2', 'conv_bias': False, 'logit_temp': 0.1, 'target_glu': False, 'feature_grad_mult': 0.1, 'mask_length': 10, 'mask_prob': 0.8, 'mask_selection': static, 'mask_other': 0.0, 'no_mask_overlap': False, 'mask_min_space': 1, 'mask_channel_length': 10, 'mask_channel_prob': 0.0, 'mask_channel_selection': static, 'mask_channel_other': 0.0, 'no_mask_channel_overlap': False, 'mask_channel_min_space': 1, 'conv_pos': 128, 'conv_pos_groups': 16, 'latent_temp': [2.0, 0.5, 0.999995], 'skip_masked': False, 'skip_nomask': False, 'checkpoint_activations': False, 'required_seq_len_multiple': 2, 'depthwise_conv_kernel_size': 31, 'attn_type': '', 'pos_enc_type': 'abs', 'fp16': False}\n",
            "Timer: 00:10:50gin_channels: 256 self.spk_embed_dim: 109\n",
            "<All keys matched successfully>\n",
            "Timer: 00:10:52Initiating prediction with a crepe_hop_length of: 128\n",
            "Timer: 00:11:442023-12-04 08:31:38 | INFO | httpx | HTTP Request: POST http://127.0.0.1:7860/api/predict \"HTTP/1.1 200 OK\"\n",
            "2023-12-04 08:31:38 | INFO | httpx | HTTP Request: POST http://127.0.0.1:7860/reset \"HTTP/1.1 200 OK\"\n",
            "Timer: 00:12:17"
          ]
        }
      ]
    }
  ],
  "metadata": {
    "accelerator": "GPU",
    "colab": {
      "provenance": [],
      "include_colab_link": true
    },
    "kernelspec": {
      "display_name": "Python 3",
      "name": "python3"
    },
    "language_info": {
      "name": "python"
    }
  },
  "nbformat": 4,
  "nbformat_minor": 0
}